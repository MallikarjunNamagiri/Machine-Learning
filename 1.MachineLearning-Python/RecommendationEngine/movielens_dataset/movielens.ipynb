{
 "cells": [
  {
   "cell_type": "code",
   "execution_count": null,
   "metadata": {
    "collapsed": true
   },
   "outputs": [],
   "source": [
    "# ----------- 1. Prepare Problem ---------------\n",
    "''' the MovieLens dataset for this purpose. It has been collected by the GroupLens Research Project at the University of Minnesota. MovieLens 100K dataset\n",
    "\n",
    "These files contain 1,000,209 anonymous ratings of approximately \n",
    "3,900 movies made by \n",
    "6,040 MovieLens users who joined MovieLens in 2000\n",
    "\n",
    "RATINGS FILE DESCRIPTION  - UserID::MovieID::Rating::Timestamp\n",
    "USERS FILE DESCRIPTION    - UserID::Gender::Age::Occupation::Zip-code\n",
    "MOVIES FILE DESCRIPTION   - MovieID::Title::Genres\n",
    "\n",
    "- Some MovieIDs do not correspond to a movie due to accidental duplicate entries and/or test entries\n",
    "- Movies are mostly entered by hand, so errors and inconsistencies may exist\n",
    "\n",
    "The goal of this project is to predict the rating given a user and a movie\n",
    "'''"
   ]
  },
  {
   "cell_type": "code",
   "execution_count": null,
   "metadata": {},
   "outputs": [],
   "source": [
    "# Collaborative filtering systems use the actions of users to recommend other movies."
   ]
  },
  {
   "cell_type": "code",
   "execution_count": 1,
   "metadata": {},
   "outputs": [],
   "source": [
    "#importing libraries\n",
    "import pandas as pd\n",
    "import numpy as np\n",
    "import matplotlib.pyplot as plt"
   ]
  },
  {
   "cell_type": "code",
   "execution_count": 17,
   "metadata": {},
   "outputs": [],
   "source": [
    "\n",
    "# b) Load dataset\n",
    "#Reading Ratings files:\n",
    "rnames = ['UserID', 'MovieID', 'Rating', 'Timestamp']\n",
    "ratings = pd.read_table('ratings.dat', sep = '::', header = None, names = rnames, engine='python')\n",
    "\n",
    "#Reading users files:\n",
    "unames = ['UserID', 'Gender', 'Age', 'Occupation', 'Zip-code']\n",
    "users = pd.read_table('users.dat', sep = '::', header = None, names = unames, engine='python')\n",
    "\n",
    "#Reading movies files:\n",
    "mnames = ['MovieID', 'Title', 'Genres']\n",
    "movies = pd.read_table('movies.dat', sep = '::', header = None, names = mnames, engine='python')"
   ]
  },
  {
   "cell_type": "code",
   "execution_count": 18,
   "metadata": {},
   "outputs": [
    {
     "name": "stdout",
     "output_type": "stream",
     "text": "ratings :\n(1000209, 4)\nusers :\n(6040, 5)\nmovies :\n(3883, 3)\n"
    }
   ],
   "source": [
    "#Dimensions of Dataset\n",
    "# shape\n",
    "print(\"ratings :\")\n",
    "print(ratings.shape)\n",
    "print(\"users :\")\n",
    "print(users.shape)\n",
    "print(\"movies :\")\n",
    "print(movies.shape)"
   ]
  },
  {
   "cell_type": "code",
   "execution_count": 19,
   "metadata": {},
   "outputs": [
    {
     "data": {
      "text/html": "<div>\n<style scoped>\n    .dataframe tbody tr th:only-of-type {\n        vertical-align: middle;\n    }\n\n    .dataframe tbody tr th {\n        vertical-align: top;\n    }\n\n    .dataframe thead th {\n        text-align: right;\n    }\n</style>\n<table border=\"1\" class=\"dataframe\">\n  <thead>\n    <tr style=\"text-align: right;\">\n      <th></th>\n      <th>UserID</th>\n      <th>MovieID</th>\n      <th>Rating</th>\n      <th>Timestamp</th>\n    </tr>\n  </thead>\n  <tbody>\n    <tr>\n      <th>0</th>\n      <td>1</td>\n      <td>1193</td>\n      <td>5</td>\n      <td>978300760</td>\n    </tr>\n    <tr>\n      <th>1</th>\n      <td>1</td>\n      <td>661</td>\n      <td>3</td>\n      <td>978302109</td>\n    </tr>\n    <tr>\n      <th>2</th>\n      <td>1</td>\n      <td>914</td>\n      <td>3</td>\n      <td>978301968</td>\n    </tr>\n    <tr>\n      <th>3</th>\n      <td>1</td>\n      <td>3408</td>\n      <td>4</td>\n      <td>978300275</td>\n    </tr>\n    <tr>\n      <th>4</th>\n      <td>1</td>\n      <td>2355</td>\n      <td>5</td>\n      <td>978824291</td>\n    </tr>\n    <tr>\n      <th>5</th>\n      <td>1</td>\n      <td>1197</td>\n      <td>3</td>\n      <td>978302268</td>\n    </tr>\n    <tr>\n      <th>6</th>\n      <td>1</td>\n      <td>1287</td>\n      <td>5</td>\n      <td>978302039</td>\n    </tr>\n    <tr>\n      <th>7</th>\n      <td>1</td>\n      <td>2804</td>\n      <td>5</td>\n      <td>978300719</td>\n    </tr>\n    <tr>\n      <th>8</th>\n      <td>1</td>\n      <td>594</td>\n      <td>4</td>\n      <td>978302268</td>\n    </tr>\n    <tr>\n      <th>9</th>\n      <td>1</td>\n      <td>919</td>\n      <td>4</td>\n      <td>978301368</td>\n    </tr>\n  </tbody>\n</table>\n</div>",
      "text/plain": "   UserID  MovieID  Rating  Timestamp\n0       1     1193       5  978300760\n1       1      661       3  978302109\n2       1      914       3  978301968\n3       1     3408       4  978300275\n4       1     2355       5  978824291\n5       1     1197       3  978302268\n6       1     1287       5  978302039\n7       1     2804       5  978300719\n8       1      594       4  978302268\n9       1      919       4  978301368"
     },
     "execution_count": 19,
     "metadata": {},
     "output_type": "execute_result"
    }
   ],
   "source": [
    "# 2. Summarize Data\n",
    "ratings.head(10)"
   ]
  },
  {
   "cell_type": "code",
   "execution_count": 20,
   "metadata": {},
   "outputs": [
    {
     "data": {
      "text/html": "<div>\n<style scoped>\n    .dataframe tbody tr th:only-of-type {\n        vertical-align: middle;\n    }\n\n    .dataframe tbody tr th {\n        vertical-align: top;\n    }\n\n    .dataframe thead th {\n        text-align: right;\n    }\n</style>\n<table border=\"1\" class=\"dataframe\">\n  <thead>\n    <tr style=\"text-align: right;\">\n      <th></th>\n      <th>MovieID</th>\n      <th>Title</th>\n      <th>Genres</th>\n    </tr>\n  </thead>\n  <tbody>\n    <tr>\n      <th>0</th>\n      <td>1</td>\n      <td>Toy Story (1995)</td>\n      <td>Animation|Children's|Comedy</td>\n    </tr>\n    <tr>\n      <th>1</th>\n      <td>2</td>\n      <td>Jumanji (1995)</td>\n      <td>Adventure|Children's|Fantasy</td>\n    </tr>\n    <tr>\n      <th>2</th>\n      <td>3</td>\n      <td>Grumpier Old Men (1995)</td>\n      <td>Comedy|Romance</td>\n    </tr>\n    <tr>\n      <th>3</th>\n      <td>4</td>\n      <td>Waiting to Exhale (1995)</td>\n      <td>Comedy|Drama</td>\n    </tr>\n    <tr>\n      <th>4</th>\n      <td>5</td>\n      <td>Father of the Bride Part II (1995)</td>\n      <td>Comedy</td>\n    </tr>\n  </tbody>\n</table>\n</div>",
      "text/plain": "   MovieID                               Title                        Genres\n0        1                    Toy Story (1995)   Animation|Children's|Comedy\n1        2                      Jumanji (1995)  Adventure|Children's|Fantasy\n2        3             Grumpier Old Men (1995)                Comedy|Romance\n3        4            Waiting to Exhale (1995)                  Comedy|Drama\n4        5  Father of the Bride Part II (1995)                        Comedy"
     },
     "execution_count": 20,
     "metadata": {},
     "output_type": "execute_result"
    }
   ],
   "source": [
    "movies.head()"
   ]
  },
  {
   "cell_type": "code",
   "execution_count": 21,
   "metadata": {},
   "outputs": [
    {
     "data": {
      "text/html": "<div>\n<style scoped>\n    .dataframe tbody tr th:only-of-type {\n        vertical-align: middle;\n    }\n\n    .dataframe tbody tr th {\n        vertical-align: top;\n    }\n\n    .dataframe thead th {\n        text-align: right;\n    }\n</style>\n<table border=\"1\" class=\"dataframe\">\n  <thead>\n    <tr style=\"text-align: right;\">\n      <th></th>\n      <th>UserID</th>\n      <th>Gender</th>\n      <th>Age</th>\n      <th>Occupation</th>\n      <th>Zip-code</th>\n    </tr>\n  </thead>\n  <tbody>\n    <tr>\n      <th>0</th>\n      <td>1</td>\n      <td>F</td>\n      <td>1</td>\n      <td>10</td>\n      <td>48067</td>\n    </tr>\n    <tr>\n      <th>1</th>\n      <td>2</td>\n      <td>M</td>\n      <td>56</td>\n      <td>16</td>\n      <td>70072</td>\n    </tr>\n    <tr>\n      <th>2</th>\n      <td>3</td>\n      <td>M</td>\n      <td>25</td>\n      <td>15</td>\n      <td>55117</td>\n    </tr>\n    <tr>\n      <th>3</th>\n      <td>4</td>\n      <td>M</td>\n      <td>45</td>\n      <td>7</td>\n      <td>02460</td>\n    </tr>\n    <tr>\n      <th>4</th>\n      <td>5</td>\n      <td>M</td>\n      <td>25</td>\n      <td>20</td>\n      <td>55455</td>\n    </tr>\n  </tbody>\n</table>\n</div>",
      "text/plain": "   UserID Gender  Age  Occupation Zip-code\n0       1      F    1          10    48067\n1       2      M   56          16    70072\n2       3      M   25          15    55117\n3       4      M   45           7    02460\n4       5      M   25          20    55455"
     },
     "execution_count": 21,
     "metadata": {},
     "output_type": "execute_result"
    }
   ],
   "source": [
    "users.head()"
   ]
  },
  {
   "cell_type": "code",
   "execution_count": 22,
   "metadata": {},
   "outputs": [
    {
     "data": {
      "text/plain": "4    348971\n3    261197\n5    226310\n2    107557\n1     56174\nName: Rating, dtype: int64"
     },
     "execution_count": 22,
     "metadata": {},
     "output_type": "execute_result"
    }
   ],
   "source": [
    "ratings['Rating'].value_counts()"
   ]
  },
  {
   "cell_type": "code",
   "execution_count": 23,
   "metadata": {},
   "outputs": [
    {
     "data": {
      "text/plain": "25    2096\n35    1193\n18    1103\n45     550\n50     496\n56     380\n1      222\nName: Age, dtype: int64"
     },
     "execution_count": 23,
     "metadata": {},
     "output_type": "execute_result"
    }
   ],
   "source": [
    "users['Age'].value_counts()"
   ]
  },
  {
   "cell_type": "code",
   "execution_count": 32,
   "metadata": {},
   "outputs": [],
   "source": [
    "dataset = pd.merge(pd.merge(users, ratings), movies)"
   ]
  },
  {
   "cell_type": "code",
   "execution_count": 33,
   "metadata": {},
   "outputs": [
    {
     "data": {
      "text/html": "<div>\n<style scoped>\n    .dataframe tbody tr th:only-of-type {\n        vertical-align: middle;\n    }\n\n    .dataframe tbody tr th {\n        vertical-align: top;\n    }\n\n    .dataframe thead th {\n        text-align: right;\n    }\n</style>\n<table border=\"1\" class=\"dataframe\">\n  <thead>\n    <tr style=\"text-align: right;\">\n      <th></th>\n      <th>UserID</th>\n      <th>Gender</th>\n      <th>Age</th>\n      <th>Occupation</th>\n      <th>Zip-code</th>\n      <th>MovieID</th>\n      <th>Rating</th>\n      <th>Timestamp</th>\n      <th>Title</th>\n      <th>Genres</th>\n    </tr>\n  </thead>\n  <tbody>\n    <tr>\n      <th>0</th>\n      <td>1</td>\n      <td>F</td>\n      <td>1</td>\n      <td>10</td>\n      <td>48067</td>\n      <td>1193</td>\n      <td>5</td>\n      <td>978300760</td>\n      <td>One Flew Over the Cuckoo's Nest (1975)</td>\n      <td>Drama</td>\n    </tr>\n    <tr>\n      <th>1</th>\n      <td>2</td>\n      <td>M</td>\n      <td>56</td>\n      <td>16</td>\n      <td>70072</td>\n      <td>1193</td>\n      <td>5</td>\n      <td>978298413</td>\n      <td>One Flew Over the Cuckoo's Nest (1975)</td>\n      <td>Drama</td>\n    </tr>\n    <tr>\n      <th>2</th>\n      <td>12</td>\n      <td>M</td>\n      <td>25</td>\n      <td>12</td>\n      <td>32793</td>\n      <td>1193</td>\n      <td>4</td>\n      <td>978220179</td>\n      <td>One Flew Over the Cuckoo's Nest (1975)</td>\n      <td>Drama</td>\n    </tr>\n    <tr>\n      <th>3</th>\n      <td>15</td>\n      <td>M</td>\n      <td>25</td>\n      <td>7</td>\n      <td>22903</td>\n      <td>1193</td>\n      <td>4</td>\n      <td>978199279</td>\n      <td>One Flew Over the Cuckoo's Nest (1975)</td>\n      <td>Drama</td>\n    </tr>\n    <tr>\n      <th>4</th>\n      <td>17</td>\n      <td>M</td>\n      <td>50</td>\n      <td>1</td>\n      <td>95350</td>\n      <td>1193</td>\n      <td>5</td>\n      <td>978158471</td>\n      <td>One Flew Over the Cuckoo's Nest (1975)</td>\n      <td>Drama</td>\n    </tr>\n  </tbody>\n</table>\n</div>",
      "text/plain": "   UserID Gender  Age  Occupation Zip-code  MovieID  Rating  Timestamp  \\\n0       1      F    1          10    48067     1193       5  978300760   \n1       2      M   56          16    70072     1193       5  978298413   \n2      12      M   25          12    32793     1193       4  978220179   \n3      15      M   25           7    22903     1193       4  978199279   \n4      17      M   50           1    95350     1193       5  978158471   \n\n                                    Title Genres  \n0  One Flew Over the Cuckoo's Nest (1975)  Drama  \n1  One Flew Over the Cuckoo's Nest (1975)  Drama  \n2  One Flew Over the Cuckoo's Nest (1975)  Drama  \n3  One Flew Over the Cuckoo's Nest (1975)  Drama  \n4  One Flew Over the Cuckoo's Nest (1975)  Drama  "
     },
     "execution_count": 33,
     "metadata": {},
     "output_type": "execute_result"
    }
   ],
   "source": [
    "dataset.head()"
   ]
  },
  {
   "cell_type": "code",
   "execution_count": 26,
   "metadata": {},
   "outputs": [
    {
     "data": {
      "text/html": "<div>\n<style scoped>\n    .dataframe tbody tr th:only-of-type {\n        vertical-align: middle;\n    }\n\n    .dataframe tbody tr th {\n        vertical-align: top;\n    }\n\n    .dataframe thead th {\n        text-align: right;\n    }\n</style>\n<table border=\"1\" class=\"dataframe\">\n  <thead>\n    <tr style=\"text-align: right;\">\n      <th></th>\n      <th>UserID</th>\n      <th>Gender</th>\n      <th>Age</th>\n      <th>Occupation</th>\n      <th>Zip-code</th>\n      <th>MovieID</th>\n      <th>Rating</th>\n      <th>Timestamp</th>\n      <th>Title</th>\n      <th>Genres</th>\n    </tr>\n  </thead>\n  <tbody>\n    <tr>\n      <th>1000189</th>\n      <td>5532</td>\n      <td>M</td>\n      <td>25</td>\n      <td>17</td>\n      <td>27408</td>\n      <td>404</td>\n      <td>5</td>\n      <td>959619841</td>\n      <td>Brother Minister: The Assassination of Malcolm...</td>\n      <td>Documentary</td>\n    </tr>\n    <tr>\n      <th>1000190</th>\n      <td>5543</td>\n      <td>M</td>\n      <td>25</td>\n      <td>17</td>\n      <td>97401</td>\n      <td>404</td>\n      <td>3</td>\n      <td>960127592</td>\n      <td>Brother Minister: The Assassination of Malcolm...</td>\n      <td>Documentary</td>\n    </tr>\n    <tr>\n      <th>1000191</th>\n      <td>5220</td>\n      <td>M</td>\n      <td>25</td>\n      <td>7</td>\n      <td>91436</td>\n      <td>2543</td>\n      <td>3</td>\n      <td>961546137</td>\n      <td>Six Ways to Sunday (1997)</td>\n      <td>Comedy</td>\n    </tr>\n    <tr>\n      <th>1000192</th>\n      <td>5754</td>\n      <td>F</td>\n      <td>18</td>\n      <td>1</td>\n      <td>60640</td>\n      <td>2543</td>\n      <td>4</td>\n      <td>958272316</td>\n      <td>Six Ways to Sunday (1997)</td>\n      <td>Comedy</td>\n    </tr>\n    <tr>\n      <th>1000193</th>\n      <td>5227</td>\n      <td>M</td>\n      <td>18</td>\n      <td>10</td>\n      <td>64050</td>\n      <td>591</td>\n      <td>3</td>\n      <td>961475931</td>\n      <td>Tough and Deadly (1995)</td>\n      <td>Action|Drama|Thriller</td>\n    </tr>\n    <tr>\n      <th>1000194</th>\n      <td>5795</td>\n      <td>M</td>\n      <td>25</td>\n      <td>1</td>\n      <td>92688</td>\n      <td>591</td>\n      <td>1</td>\n      <td>958145253</td>\n      <td>Tough and Deadly (1995)</td>\n      <td>Action|Drama|Thriller</td>\n    </tr>\n    <tr>\n      <th>1000195</th>\n      <td>5313</td>\n      <td>M</td>\n      <td>56</td>\n      <td>0</td>\n      <td>55406</td>\n      <td>3656</td>\n      <td>5</td>\n      <td>960920392</td>\n      <td>Lured (1947)</td>\n      <td>Crime</td>\n    </tr>\n    <tr>\n      <th>1000196</th>\n      <td>5328</td>\n      <td>F</td>\n      <td>25</td>\n      <td>4</td>\n      <td>91740</td>\n      <td>2438</td>\n      <td>4</td>\n      <td>960838075</td>\n      <td>Outside Ozona (1998)</td>\n      <td>Drama|Thriller</td>\n    </tr>\n    <tr>\n      <th>1000197</th>\n      <td>5334</td>\n      <td>F</td>\n      <td>56</td>\n      <td>13</td>\n      <td>46140</td>\n      <td>3323</td>\n      <td>3</td>\n      <td>960796159</td>\n      <td>Chain of Fools (2000)</td>\n      <td>Comedy|Crime</td>\n    </tr>\n    <tr>\n      <th>1000198</th>\n      <td>5334</td>\n      <td>F</td>\n      <td>56</td>\n      <td>13</td>\n      <td>46140</td>\n      <td>127</td>\n      <td>1</td>\n      <td>960795494</td>\n      <td>Silence of the Palace, The (Saimt el Qusur) (1...</td>\n      <td>Drama</td>\n    </tr>\n    <tr>\n      <th>1000199</th>\n      <td>5334</td>\n      <td>F</td>\n      <td>56</td>\n      <td>13</td>\n      <td>46140</td>\n      <td>3382</td>\n      <td>5</td>\n      <td>960796159</td>\n      <td>Song of Freedom (1936)</td>\n      <td>Drama</td>\n    </tr>\n    <tr>\n      <th>1000200</th>\n      <td>5420</td>\n      <td>F</td>\n      <td>1</td>\n      <td>19</td>\n      <td>14850</td>\n      <td>1843</td>\n      <td>3</td>\n      <td>960156505</td>\n      <td>Slappy and the Stinkers (1998)</td>\n      <td>Children's|Comedy</td>\n    </tr>\n    <tr>\n      <th>1000201</th>\n      <td>5433</td>\n      <td>F</td>\n      <td>35</td>\n      <td>17</td>\n      <td>45014</td>\n      <td>286</td>\n      <td>3</td>\n      <td>960240881</td>\n      <td>Nemesis 2: Nebula (1995)</td>\n      <td>Action|Sci-Fi|Thriller</td>\n    </tr>\n    <tr>\n      <th>1000202</th>\n      <td>5494</td>\n      <td>F</td>\n      <td>35</td>\n      <td>17</td>\n      <td>94306</td>\n      <td>3530</td>\n      <td>4</td>\n      <td>959816296</td>\n      <td>Smoking/No Smoking (1993)</td>\n      <td>Comedy</td>\n    </tr>\n    <tr>\n      <th>1000203</th>\n      <td>5556</td>\n      <td>M</td>\n      <td>45</td>\n      <td>6</td>\n      <td>92103</td>\n      <td>2198</td>\n      <td>3</td>\n      <td>959445515</td>\n      <td>Modulations (1998)</td>\n      <td>Documentary</td>\n    </tr>\n    <tr>\n      <th>1000204</th>\n      <td>5949</td>\n      <td>M</td>\n      <td>18</td>\n      <td>17</td>\n      <td>47901</td>\n      <td>2198</td>\n      <td>5</td>\n      <td>958846401</td>\n      <td>Modulations (1998)</td>\n      <td>Documentary</td>\n    </tr>\n    <tr>\n      <th>1000205</th>\n      <td>5675</td>\n      <td>M</td>\n      <td>35</td>\n      <td>14</td>\n      <td>30030</td>\n      <td>2703</td>\n      <td>3</td>\n      <td>976029116</td>\n      <td>Broken Vessels (1998)</td>\n      <td>Drama</td>\n    </tr>\n    <tr>\n      <th>1000206</th>\n      <td>5780</td>\n      <td>M</td>\n      <td>18</td>\n      <td>17</td>\n      <td>92886</td>\n      <td>2845</td>\n      <td>1</td>\n      <td>958153068</td>\n      <td>White Boys (1999)</td>\n      <td>Drama</td>\n    </tr>\n    <tr>\n      <th>1000207</th>\n      <td>5851</td>\n      <td>F</td>\n      <td>18</td>\n      <td>20</td>\n      <td>55410</td>\n      <td>3607</td>\n      <td>5</td>\n      <td>957756608</td>\n      <td>One Little Indian (1973)</td>\n      <td>Comedy|Drama|Western</td>\n    </tr>\n    <tr>\n      <th>1000208</th>\n      <td>5938</td>\n      <td>M</td>\n      <td>25</td>\n      <td>1</td>\n      <td>35401</td>\n      <td>2909</td>\n      <td>4</td>\n      <td>957273353</td>\n      <td>Five Wives, Three Secretaries and Me (1998)</td>\n      <td>Documentary</td>\n    </tr>\n  </tbody>\n</table>\n</div>",
      "text/plain": "         UserID Gender  Age  Occupation Zip-code  MovieID  Rating  Timestamp  \\\n1000189    5532      M   25          17    27408      404       5  959619841   \n1000190    5543      M   25          17    97401      404       3  960127592   \n1000191    5220      M   25           7    91436     2543       3  961546137   \n1000192    5754      F   18           1    60640     2543       4  958272316   \n1000193    5227      M   18          10    64050      591       3  961475931   \n1000194    5795      M   25           1    92688      591       1  958145253   \n1000195    5313      M   56           0    55406     3656       5  960920392   \n1000196    5328      F   25           4    91740     2438       4  960838075   \n1000197    5334      F   56          13    46140     3323       3  960796159   \n1000198    5334      F   56          13    46140      127       1  960795494   \n1000199    5334      F   56          13    46140     3382       5  960796159   \n1000200    5420      F    1          19    14850     1843       3  960156505   \n1000201    5433      F   35          17    45014      286       3  960240881   \n1000202    5494      F   35          17    94306     3530       4  959816296   \n1000203    5556      M   45           6    92103     2198       3  959445515   \n1000204    5949      M   18          17    47901     2198       5  958846401   \n1000205    5675      M   35          14    30030     2703       3  976029116   \n1000206    5780      M   18          17    92886     2845       1  958153068   \n1000207    5851      F   18          20    55410     3607       5  957756608   \n1000208    5938      M   25           1    35401     2909       4  957273353   \n\n                                                     Title  \\\n1000189  Brother Minister: The Assassination of Malcolm...   \n1000190  Brother Minister: The Assassination of Malcolm...   \n1000191                          Six Ways to Sunday (1997)   \n1000192                          Six Ways to Sunday (1997)   \n1000193                            Tough and Deadly (1995)   \n1000194                            Tough and Deadly (1995)   \n1000195                                       Lured (1947)   \n1000196                               Outside Ozona (1998)   \n1000197                              Chain of Fools (2000)   \n1000198  Silence of the Palace, The (Saimt el Qusur) (1...   \n1000199                             Song of Freedom (1936)   \n1000200                     Slappy and the Stinkers (1998)   \n1000201                           Nemesis 2: Nebula (1995)   \n1000202                          Smoking/No Smoking (1993)   \n1000203                                 Modulations (1998)   \n1000204                                 Modulations (1998)   \n1000205                              Broken Vessels (1998)   \n1000206                                  White Boys (1999)   \n1000207                           One Little Indian (1973)   \n1000208        Five Wives, Three Secretaries and Me (1998)   \n\n                         Genres  \n1000189             Documentary  \n1000190             Documentary  \n1000191                  Comedy  \n1000192                  Comedy  \n1000193   Action|Drama|Thriller  \n1000194   Action|Drama|Thriller  \n1000195                   Crime  \n1000196          Drama|Thriller  \n1000197            Comedy|Crime  \n1000198                   Drama  \n1000199                   Drama  \n1000200       Children's|Comedy  \n1000201  Action|Sci-Fi|Thriller  \n1000202                  Comedy  \n1000203             Documentary  \n1000204             Documentary  \n1000205                   Drama  \n1000206                   Drama  \n1000207    Comedy|Drama|Western  \n1000208             Documentary  "
     },
     "execution_count": 26,
     "metadata": {},
     "output_type": "execute_result"
    }
   ],
   "source": [
    "dataset.tail(20)"
   ]
  },
  {
   "cell_type": "code",
   "execution_count": 27,
   "metadata": {},
   "outputs": [
    {
     "data": {
      "text/plain": "(1000209, 10)"
     },
     "execution_count": 27,
     "metadata": {},
     "output_type": "execute_result"
    }
   ],
   "source": [
    "dataset.shape"
   ]
  },
  {
   "cell_type": "code",
   "execution_count": 28,
   "metadata": {},
   "outputs": [
    {
     "name": "stdout",
     "output_type": "stream",
     "text": "<class 'pandas.core.frame.DataFrame'>\nInt64Index: 1000209 entries, 0 to 1000208\nData columns (total 10 columns):\nUserID        1000209 non-null int64\nGender        1000209 non-null object\nAge           1000209 non-null int64\nOccupation    1000209 non-null int64\nZip-code      1000209 non-null object\nMovieID       1000209 non-null int64\nRating        1000209 non-null int64\nTimestamp     1000209 non-null int64\nTitle         1000209 non-null object\nGenres        1000209 non-null object\ndtypes: int64(6), object(4)\nmemory usage: 83.9+ MB\n"
    }
   ],
   "source": [
    "dataset.info()"
   ]
  },
  {
   "cell_type": "code",
   "execution_count": 34,
   "metadata": {},
   "outputs": [
    {
     "data": {
      "text/html": "<div>\n<style scoped>\n    .dataframe tbody tr th:only-of-type {\n        vertical-align: middle;\n    }\n\n    .dataframe tbody tr th {\n        vertical-align: top;\n    }\n\n    .dataframe thead th {\n        text-align: right;\n    }\n</style>\n<table border=\"1\" class=\"dataframe\">\n  <thead>\n    <tr style=\"text-align: right;\">\n      <th></th>\n      <th>Age</th>\n      <th>Rating</th>\n    </tr>\n  </thead>\n  <tbody>\n    <tr>\n      <th>0</th>\n      <td>1</td>\n      <td>3.549520</td>\n    </tr>\n    <tr>\n      <th>1</th>\n      <td>18</td>\n      <td>3.507573</td>\n    </tr>\n    <tr>\n      <th>2</th>\n      <td>25</td>\n      <td>3.545235</td>\n    </tr>\n    <tr>\n      <th>3</th>\n      <td>35</td>\n      <td>3.618162</td>\n    </tr>\n    <tr>\n      <th>4</th>\n      <td>45</td>\n      <td>3.638062</td>\n    </tr>\n    <tr>\n      <th>5</th>\n      <td>50</td>\n      <td>3.714512</td>\n    </tr>\n    <tr>\n      <th>6</th>\n      <td>56</td>\n      <td>3.766632</td>\n    </tr>\n  </tbody>\n</table>\n</div>",
      "text/plain": "   Age    Rating\n0    1  3.549520\n1   18  3.507573\n2   25  3.545235\n3   35  3.618162\n4   45  3.638062\n5   50  3.714512\n6   56  3.766632"
     },
     "execution_count": 34,
     "metadata": {},
     "output_type": "execute_result"
    }
   ],
   "source": [
    "dataset[['Age', 'Rating']].groupby(['Age'], as_index=False).mean().sort_values(by='Age', ascending=True)\n",
    "#(dataset.groupby(['Age', 'Rating'], as_index=False).mean().groupby('Age')['Rating'].mean())"
   ]
  },
  {
   "cell_type": "code",
   "execution_count": 30,
   "metadata": {},
   "outputs": [
    {
     "data": {
      "text/plain": "0           True\n1          False\n2          False\n3          False\n4          False\n           ...  \n1000204     True\n1000205    False\n1000206     True\n1000207     True\n1000208    False\nName: Age, Length: 1000209, dtype: bool"
     },
     "execution_count": 30,
     "metadata": {},
     "output_type": "execute_result"
    }
   ],
   "source": [
    "dataset['Age'] <= 18\n",
    "# =['1', dataset['Age'] < 18]\n",
    "#dataset['Age'] < 18"
   ]
  },
  {
   "cell_type": "code",
   "execution_count": 37,
   "metadata": {},
   "outputs": [],
   "source": [
    "from scipy.sparse import csr_matrix\n",
    "\n",
    "# pivot ratings into movie features\n",
    "movies_features = ratings.pivot(\n",
    "    index='MovieID',\n",
    "    columns='UserID',\n",
    "    values='Rating'\n",
    ").fillna(0)\n",
    "\n",
    "# Convert dataframe of movie features to scipy sparse matrix\n",
    "mat_movie_features = csr_matrix(movies_features.values)"
   ]
  },
  {
   "cell_type": "code",
   "execution_count": 38,
   "metadata": {},
   "outputs": [
    {
     "data": {
      "text/html": "<div>\n<style scoped>\n    .dataframe tbody tr th:only-of-type {\n        vertical-align: middle;\n    }\n\n    .dataframe tbody tr th {\n        vertical-align: top;\n    }\n\n    .dataframe thead th {\n        text-align: right;\n    }\n</style>\n<table border=\"1\" class=\"dataframe\">\n  <thead>\n    <tr style=\"text-align: right;\">\n      <th>UserID</th>\n      <th>1</th>\n      <th>2</th>\n      <th>3</th>\n      <th>4</th>\n      <th>5</th>\n      <th>6</th>\n      <th>7</th>\n      <th>8</th>\n      <th>9</th>\n      <th>10</th>\n      <th>...</th>\n      <th>6031</th>\n      <th>6032</th>\n      <th>6033</th>\n      <th>6034</th>\n      <th>6035</th>\n      <th>6036</th>\n      <th>6037</th>\n      <th>6038</th>\n      <th>6039</th>\n      <th>6040</th>\n    </tr>\n    <tr>\n      <th>MovieID</th>\n      <th></th>\n      <th></th>\n      <th></th>\n      <th></th>\n      <th></th>\n      <th></th>\n      <th></th>\n      <th></th>\n      <th></th>\n      <th></th>\n      <th></th>\n      <th></th>\n      <th></th>\n      <th></th>\n      <th></th>\n      <th></th>\n      <th></th>\n      <th></th>\n      <th></th>\n      <th></th>\n      <th></th>\n    </tr>\n  </thead>\n  <tbody>\n    <tr>\n      <th>1</th>\n      <td>5.0</td>\n      <td>0.0</td>\n      <td>0.0</td>\n      <td>0.0</td>\n      <td>0.0</td>\n      <td>4.0</td>\n      <td>0.0</td>\n      <td>4.0</td>\n      <td>5.0</td>\n      <td>5.0</td>\n      <td>...</td>\n      <td>0.0</td>\n      <td>4.0</td>\n      <td>0.0</td>\n      <td>0.0</td>\n      <td>4.0</td>\n      <td>0.0</td>\n      <td>0.0</td>\n      <td>0.0</td>\n      <td>0.0</td>\n      <td>3.0</td>\n    </tr>\n    <tr>\n      <th>2</th>\n      <td>0.0</td>\n      <td>0.0</td>\n      <td>0.0</td>\n      <td>0.0</td>\n      <td>0.0</td>\n      <td>0.0</td>\n      <td>0.0</td>\n      <td>0.0</td>\n      <td>0.0</td>\n      <td>5.0</td>\n      <td>...</td>\n      <td>0.0</td>\n      <td>0.0</td>\n      <td>0.0</td>\n      <td>0.0</td>\n      <td>0.0</td>\n      <td>0.0</td>\n      <td>0.0</td>\n      <td>0.0</td>\n      <td>0.0</td>\n      <td>0.0</td>\n    </tr>\n    <tr>\n      <th>3</th>\n      <td>0.0</td>\n      <td>0.0</td>\n      <td>0.0</td>\n      <td>0.0</td>\n      <td>0.0</td>\n      <td>0.0</td>\n      <td>0.0</td>\n      <td>0.0</td>\n      <td>0.0</td>\n      <td>0.0</td>\n      <td>...</td>\n      <td>0.0</td>\n      <td>0.0</td>\n      <td>0.0</td>\n      <td>0.0</td>\n      <td>1.0</td>\n      <td>0.0</td>\n      <td>0.0</td>\n      <td>0.0</td>\n      <td>0.0</td>\n      <td>0.0</td>\n    </tr>\n    <tr>\n      <th>4</th>\n      <td>0.0</td>\n      <td>0.0</td>\n      <td>0.0</td>\n      <td>0.0</td>\n      <td>0.0</td>\n      <td>0.0</td>\n      <td>0.0</td>\n      <td>3.0</td>\n      <td>0.0</td>\n      <td>0.0</td>\n      <td>...</td>\n      <td>0.0</td>\n      <td>0.0</td>\n      <td>0.0</td>\n      <td>0.0</td>\n      <td>2.0</td>\n      <td>2.0</td>\n      <td>0.0</td>\n      <td>0.0</td>\n      <td>0.0</td>\n      <td>0.0</td>\n    </tr>\n    <tr>\n      <th>5</th>\n      <td>0.0</td>\n      <td>0.0</td>\n      <td>0.0</td>\n      <td>0.0</td>\n      <td>0.0</td>\n      <td>0.0</td>\n      <td>0.0</td>\n      <td>0.0</td>\n      <td>0.0</td>\n      <td>0.0</td>\n      <td>...</td>\n      <td>0.0</td>\n      <td>0.0</td>\n      <td>0.0</td>\n      <td>0.0</td>\n      <td>1.0</td>\n      <td>0.0</td>\n      <td>0.0</td>\n      <td>0.0</td>\n      <td>0.0</td>\n      <td>0.0</td>\n    </tr>\n  </tbody>\n</table>\n<p>5 rows × 6040 columns</p>\n</div>",
      "text/plain": "UserID   1     2     3     4     5     6     7     8     9     10    ...  \\\nMovieID                                                              ...   \n1         5.0   0.0   0.0   0.0   0.0   4.0   0.0   4.0   5.0   5.0  ...   \n2         0.0   0.0   0.0   0.0   0.0   0.0   0.0   0.0   0.0   5.0  ...   \n3         0.0   0.0   0.0   0.0   0.0   0.0   0.0   0.0   0.0   0.0  ...   \n4         0.0   0.0   0.0   0.0   0.0   0.0   0.0   3.0   0.0   0.0  ...   \n5         0.0   0.0   0.0   0.0   0.0   0.0   0.0   0.0   0.0   0.0  ...   \n\nUserID   6031  6032  6033  6034  6035  6036  6037  6038  6039  6040  \nMovieID                                                              \n1         0.0   4.0   0.0   0.0   4.0   0.0   0.0   0.0   0.0   3.0  \n2         0.0   0.0   0.0   0.0   0.0   0.0   0.0   0.0   0.0   0.0  \n3         0.0   0.0   0.0   0.0   1.0   0.0   0.0   0.0   0.0   0.0  \n4         0.0   0.0   0.0   0.0   2.0   2.0   0.0   0.0   0.0   0.0  \n5         0.0   0.0   0.0   0.0   1.0   0.0   0.0   0.0   0.0   0.0  \n\n[5 rows x 6040 columns]"
     },
     "execution_count": 38,
     "metadata": {},
     "output_type": "execute_result"
    }
   ],
   "source": [
    "movies_features.head()"
   ]
  },
  {
   "cell_type": "code",
   "execution_count": 43,
   "metadata": {},
   "outputs": [],
   "source": [
    "from sklearn.neighbors import NearestNeighbors\n",
    "\n",
    "model_knn = NearestNeighbors(metric='cosine', algorithm = 'brute', n_neighbors=20, n_jobs=-1))"
   ]
  },
  {
   "cell_type": "code",
   "execution_count": 45,
   "metadata": {},
   "outputs": [
    {
     "ename": "IndentationError",
     "evalue": "unexpected indent (<ipython-input-45-8d136c4aa442>, line 12)",
     "output_type": "error",
     "traceback": [
      "\u001b[1;36m  File \u001b[1;32m\"<ipython-input-45-8d136c4aa442>\"\u001b[1;36m, line \u001b[1;32m12\u001b[0m\n\u001b[1;33m    reverse_hashmap = {v: k for k, v in hashmap.items()}\u001b[0m\n\u001b[1;37m    ^\u001b[0m\n\u001b[1;31mIndentationError\u001b[0m\u001b[1;31m:\u001b[0m unexpected indent\n"
     ]
    }
   ],
   "source": [
    "def make_recommendations(self, fav_movie, n_recommendations):\n",
    "    '''\n",
    "    make top n movie recommendations perameters\n",
    "    '''\n",
    "    # get data\n",
    "    movie_user_mat_sparse, hashmap = self._prep_data()\n",
    "    # get recommendations\n",
    "    raw_recommends = self._interface(\n",
    "        self.model, movie_user_mat_sparse, hashmap,\n",
    "        fav_movie, n_recommendations)\n",
    "        # print results\n",
    "        reverse_hashmap = {v: k for k, v in hashmap.items()}\n",
    "        print('Recommendations for {}:'.format(fav_movie))\n",
    "        for i, (idx, dist) in enumerate(raw_recommends):\n",
    "            print('{0}: {1}, with distance ')\n",
    "    )"
   ]
  },
  {
   "cell_type": "code",
   "execution_count": null,
   "metadata": {},
   "outputs": [],
   "source": []
  }
 ],
 "metadata": {
  "kernelspec": {
   "display_name": "Python 3",
   "language": "python",
   "name": "python3"
  },
  "language_info": {
   "codemirror_mode": {
    "name": "ipython",
    "version": 3
   },
   "file_extension": ".py",
   "mimetype": "text/x-python",
   "name": "python",
   "nbconvert_exporter": "python",
   "pygments_lexer": "ipython3",
   "version": "3.7.1"
  }
 },
 "nbformat": 4,
 "nbformat_minor": 2
}